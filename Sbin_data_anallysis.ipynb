{
 "cells": [
  {
   "cell_type": "markdown",
   "id": "c73320fb",
   "metadata": {},
   "source": [
    "# Data Analysis of Sbin "
   ]
  },
  {
   "cell_type": "code",
   "execution_count": 8,
   "id": "3b66d71f",
   "metadata": {},
   "outputs": [],
   "source": [
    "import pandas as pd\n",
    "import numpy as np\n",
    "sbi = pd.read_csv('sbin_data.csv', header =0 ,index_col ='Date', parse_dates =True)\n",
    "# This makes Date column as index"
   ]
  },
  {
   "cell_type": "code",
   "execution_count": 9,
   "id": "f5cee3df",
   "metadata": {},
   "outputs": [
    {
     "data": {
      "text/html": [
       "<div>\n",
       "<style scoped>\n",
       "    .dataframe tbody tr th:only-of-type {\n",
       "        vertical-align: middle;\n",
       "    }\n",
       "\n",
       "    .dataframe tbody tr th {\n",
       "        vertical-align: top;\n",
       "    }\n",
       "\n",
       "    .dataframe thead th {\n",
       "        text-align: right;\n",
       "    }\n",
       "</style>\n",
       "<table border=\"1\" class=\"dataframe\">\n",
       "  <thead>\n",
       "    <tr style=\"text-align: right;\">\n",
       "      <th></th>\n",
       "      <th>Open</th>\n",
       "      <th>High</th>\n",
       "      <th>Low</th>\n",
       "      <th>Close</th>\n",
       "      <th>Adj Close</th>\n",
       "      <th>Volume</th>\n",
       "    </tr>\n",
       "    <tr>\n",
       "      <th>Date</th>\n",
       "      <th></th>\n",
       "      <th></th>\n",
       "      <th></th>\n",
       "      <th></th>\n",
       "      <th></th>\n",
       "      <th></th>\n",
       "    </tr>\n",
       "  </thead>\n",
       "  <tbody>\n",
       "    <tr>\n",
       "      <th>2020-08-24</th>\n",
       "      <td>200.000000</td>\n",
       "      <td>202.800003</td>\n",
       "      <td>198.600006</td>\n",
       "      <td>201.449997</td>\n",
       "      <td>199.607117</td>\n",
       "      <td>53850253.0</td>\n",
       "    </tr>\n",
       "    <tr>\n",
       "      <th>2020-08-25</th>\n",
       "      <td>204.000000</td>\n",
       "      <td>208.449997</td>\n",
       "      <td>202.699997</td>\n",
       "      <td>207.949997</td>\n",
       "      <td>206.047653</td>\n",
       "      <td>105394375.0</td>\n",
       "    </tr>\n",
       "    <tr>\n",
       "      <th>2020-08-26</th>\n",
       "      <td>208.500000</td>\n",
       "      <td>210.350006</td>\n",
       "      <td>206.149994</td>\n",
       "      <td>209.850006</td>\n",
       "      <td>207.930283</td>\n",
       "      <td>66749637.0</td>\n",
       "    </tr>\n",
       "    <tr>\n",
       "      <th>2020-08-27</th>\n",
       "      <td>210.500000</td>\n",
       "      <td>216.500000</td>\n",
       "      <td>210.500000</td>\n",
       "      <td>215.649994</td>\n",
       "      <td>213.677216</td>\n",
       "      <td>80997993.0</td>\n",
       "    </tr>\n",
       "    <tr>\n",
       "      <th>2020-08-28</th>\n",
       "      <td>217.000000</td>\n",
       "      <td>225.899994</td>\n",
       "      <td>216.800003</td>\n",
       "      <td>224.850006</td>\n",
       "      <td>222.793060</td>\n",
       "      <td>95974037.0</td>\n",
       "    </tr>\n",
       "    <tr>\n",
       "      <th>2020-08-31</th>\n",
       "      <td>231.550003</td>\n",
       "      <td>231.550003</td>\n",
       "      <td>210.350006</td>\n",
       "      <td>212.000000</td>\n",
       "      <td>210.060608</td>\n",
       "      <td>119986476.0</td>\n",
       "    </tr>\n",
       "  </tbody>\n",
       "</table>\n",
       "</div>"
      ],
      "text/plain": [
       "                  Open        High         Low       Close   Adj Close  \\\n",
       "Date                                                                     \n",
       "2020-08-24  200.000000  202.800003  198.600006  201.449997  199.607117   \n",
       "2020-08-25  204.000000  208.449997  202.699997  207.949997  206.047653   \n",
       "2020-08-26  208.500000  210.350006  206.149994  209.850006  207.930283   \n",
       "2020-08-27  210.500000  216.500000  210.500000  215.649994  213.677216   \n",
       "2020-08-28  217.000000  225.899994  216.800003  224.850006  222.793060   \n",
       "2020-08-31  231.550003  231.550003  210.350006  212.000000  210.060608   \n",
       "\n",
       "                 Volume  \n",
       "Date                     \n",
       "2020-08-24   53850253.0  \n",
       "2020-08-25  105394375.0  \n",
       "2020-08-26   66749637.0  \n",
       "2020-08-27   80997993.0  \n",
       "2020-08-28   95974037.0  \n",
       "2020-08-31  119986476.0  "
      ]
     },
     "execution_count": 9,
     "metadata": {},
     "output_type": "execute_result"
    }
   ],
   "source": [
    "sbi.head(n=6)          # Rea"
   ]
  },
  {
   "cell_type": "code",
   "execution_count": 10,
   "id": "09406345",
   "metadata": {},
   "outputs": [
    {
     "data": {
      "text/html": [
       "<div>\n",
       "<style scoped>\n",
       "    .dataframe tbody tr th:only-of-type {\n",
       "        vertical-align: middle;\n",
       "    }\n",
       "\n",
       "    .dataframe tbody tr th {\n",
       "        vertical-align: top;\n",
       "    }\n",
       "\n",
       "    .dataframe thead th {\n",
       "        text-align: right;\n",
       "    }\n",
       "</style>\n",
       "<table border=\"1\" class=\"dataframe\">\n",
       "  <thead>\n",
       "    <tr style=\"text-align: right;\">\n",
       "      <th></th>\n",
       "      <th>Open</th>\n",
       "      <th>High</th>\n",
       "      <th>Low</th>\n",
       "      <th>Close</th>\n",
       "      <th>Adj Close</th>\n",
       "      <th>Volume</th>\n",
       "    </tr>\n",
       "    <tr>\n",
       "      <th>Date</th>\n",
       "      <th></th>\n",
       "      <th></th>\n",
       "      <th></th>\n",
       "      <th></th>\n",
       "      <th></th>\n",
       "      <th></th>\n",
       "    </tr>\n",
       "  </thead>\n",
       "  <tbody>\n",
       "    <tr>\n",
       "      <th>2021-08-17</th>\n",
       "      <td>424.850006</td>\n",
       "      <td>425.850006</td>\n",
       "      <td>415.250000</td>\n",
       "      <td>421.500000</td>\n",
       "      <td>421.500000</td>\n",
       "      <td>22957877.0</td>\n",
       "    </tr>\n",
       "    <tr>\n",
       "      <th>2021-08-18</th>\n",
       "      <td>422.149994</td>\n",
       "      <td>424.350006</td>\n",
       "      <td>418.000000</td>\n",
       "      <td>419.700012</td>\n",
       "      <td>419.700012</td>\n",
       "      <td>17668574.0</td>\n",
       "    </tr>\n",
       "    <tr>\n",
       "      <th>2021-08-20</th>\n",
       "      <td>415.000000</td>\n",
       "      <td>417.350006</td>\n",
       "      <td>405.149994</td>\n",
       "      <td>406.700012</td>\n",
       "      <td>406.700012</td>\n",
       "      <td>25541790.0</td>\n",
       "    </tr>\n",
       "  </tbody>\n",
       "</table>\n",
       "</div>"
      ],
      "text/plain": [
       "                  Open        High         Low       Close   Adj Close  \\\n",
       "Date                                                                     \n",
       "2021-08-17  424.850006  425.850006  415.250000  421.500000  421.500000   \n",
       "2021-08-18  422.149994  424.350006  418.000000  419.700012  419.700012   \n",
       "2021-08-20  415.000000  417.350006  405.149994  406.700012  406.700012   \n",
       "\n",
       "                Volume  \n",
       "Date                    \n",
       "2021-08-17  22957877.0  \n",
       "2021-08-18  17668574.0  \n",
       "2021-08-20  25541790.0  "
      ]
     },
     "execution_count": 10,
     "metadata": {},
     "output_type": "execute_result"
    }
   ],
   "source": [
    "sbi.tail(n=3)"
   ]
  },
  {
   "cell_type": "markdown",
   "id": "088e6700",
   "metadata": {},
   "source": [
    "# Using Pandas Datareader"
   ]
  },
  {
   "cell_type": "code",
   "execution_count": 11,
   "id": "e9fec58f",
   "metadata": {},
   "outputs": [
    {
     "name": "stdout",
     "output_type": "stream",
     "text": [
      "Requirement already satisfied: pandas_datareader in d:\\anaconda\\lib\\site-packages (0.10.0)\n",
      "Requirement already satisfied: lxml in d:\\anaconda\\lib\\site-packages (from pandas_datareader) (4.6.3)\n",
      "Requirement already satisfied: requests>=2.19.0 in d:\\anaconda\\lib\\site-packages (from pandas_datareader) (2.25.1)\n",
      "Requirement already satisfied: pandas>=0.23 in d:\\anaconda\\lib\\site-packages (from pandas_datareader) (1.2.4)\n",
      "Requirement already satisfied: python-dateutil>=2.7.3 in d:\\anaconda\\lib\\site-packages (from pandas>=0.23->pandas_datareader) (2.8.1)\n",
      "Requirement already satisfied: numpy>=1.16.5 in d:\\anaconda\\lib\\site-packages (from pandas>=0.23->pandas_datareader) (1.20.1)\n",
      "Requirement already satisfied: pytz>=2017.3 in d:\\anaconda\\lib\\site-packages (from pandas>=0.23->pandas_datareader) (2021.1)\n",
      "Requirement already satisfied: six>=1.5 in d:\\anaconda\\lib\\site-packages (from python-dateutil>=2.7.3->pandas>=0.23->pandas_datareader) (1.15.0)\n",
      "Requirement already satisfied: urllib3<1.27,>=1.21.1 in d:\\anaconda\\lib\\site-packages (from requests>=2.19.0->pandas_datareader) (1.26.4)\n",
      "Requirement already satisfied: chardet<5,>=3.0.2 in d:\\anaconda\\lib\\site-packages (from requests>=2.19.0->pandas_datareader) (4.0.0)\n",
      "Requirement already satisfied: idna<3,>=2.5 in d:\\anaconda\\lib\\site-packages (from requests>=2.19.0->pandas_datareader) (2.10)\n",
      "Requirement already satisfied: certifi>=2017.4.17 in d:\\anaconda\\lib\\site-packages (from requests>=2.19.0->pandas_datareader) (2020.12.5)\n",
      "Note: you may need to restart the kernel to use updated packages.\n"
     ]
    }
   ],
   "source": [
    "pip install pandas_datareader"
   ]
  },
  {
   "cell_type": "code",
   "execution_count": 12,
   "id": "5c4ab1f0",
   "metadata": {},
   "outputs": [],
   "source": [
    "import pandas_datareader as pdr"
   ]
  },
  {
   "cell_type": "code",
   "execution_count": 13,
   "id": "e2ef6b4f",
   "metadata": {},
   "outputs": [],
   "source": [
    "import datetime"
   ]
  },
  {
   "cell_type": "code",
   "execution_count": 14,
   "id": "34561180",
   "metadata": {},
   "outputs": [],
   "source": [
    "nvda = pdr.get_data_yahoo('NVDA',start = datetime.datetime(2004,1,1),end = datetime.datetime(2019,6,8))"
   ]
  },
  {
   "cell_type": "code",
   "execution_count": 15,
   "id": "f7fb6314",
   "metadata": {},
   "outputs": [],
   "source": [
    "intc = pdr.get_data_yahoo('INTC',start = datetime.datetime(2004,1,1),end = datetime.datetime(2019,6,8))"
   ]
  },
  {
   "cell_type": "code",
   "execution_count": 16,
   "id": "a8dd422a",
   "metadata": {},
   "outputs": [],
   "source": [
    "qcom = pdr.get_data_yahoo('QCOM',start = datetime.datetime(2004,1,1),end = datetime.datetime(2019,6,8))"
   ]
  },
  {
   "cell_type": "code",
   "execution_count": 17,
   "id": "1b3b2529",
   "metadata": {},
   "outputs": [],
   "source": [
    "ibm = pdr.get_data_yahoo('IBM',start = datetime.datetime(2004,1,1),end = datetime.datetime(2019,6,8))"
   ]
  },
  {
   "cell_type": "code",
   "execution_count": 18,
   "id": "3aab4de6",
   "metadata": {},
   "outputs": [
    {
     "data": {
      "text/plain": [
       "pandas.core.frame.DataFrame"
      ]
     },
     "execution_count": 18,
     "metadata": {},
     "output_type": "execute_result"
    }
   ],
   "source": [
    "type(nvda)"
   ]
  },
  {
   "cell_type": "code",
   "execution_count": 19,
   "id": "eb97447a",
   "metadata": {},
   "outputs": [
    {
     "data": {
      "text/html": [
       "<div>\n",
       "<style scoped>\n",
       "    .dataframe tbody tr th:only-of-type {\n",
       "        vertical-align: middle;\n",
       "    }\n",
       "\n",
       "    .dataframe tbody tr th {\n",
       "        vertical-align: top;\n",
       "    }\n",
       "\n",
       "    .dataframe thead th {\n",
       "        text-align: right;\n",
       "    }\n",
       "</style>\n",
       "<table border=\"1\" class=\"dataframe\">\n",
       "  <thead>\n",
       "    <tr style=\"text-align: right;\">\n",
       "      <th></th>\n",
       "      <th>High</th>\n",
       "      <th>Low</th>\n",
       "      <th>Open</th>\n",
       "      <th>Close</th>\n",
       "      <th>Volume</th>\n",
       "      <th>Adj Close</th>\n",
       "    </tr>\n",
       "    <tr>\n",
       "      <th>Date</th>\n",
       "      <th></th>\n",
       "      <th></th>\n",
       "      <th></th>\n",
       "      <th></th>\n",
       "      <th></th>\n",
       "      <th></th>\n",
       "    </tr>\n",
       "  </thead>\n",
       "  <tbody>\n",
       "    <tr>\n",
       "      <th>2003-12-31</th>\n",
       "      <td>1.987500</td>\n",
       "      <td>1.901667</td>\n",
       "      <td>1.978333</td>\n",
       "      <td>1.933333</td>\n",
       "      <td>49726800.0</td>\n",
       "      <td>1.776510</td>\n",
       "    </tr>\n",
       "    <tr>\n",
       "      <th>2004-01-02</th>\n",
       "      <td>1.990833</td>\n",
       "      <td>1.923333</td>\n",
       "      <td>1.964167</td>\n",
       "      <td>1.923333</td>\n",
       "      <td>43641600.0</td>\n",
       "      <td>1.767321</td>\n",
       "    </tr>\n",
       "    <tr>\n",
       "      <th>2004-01-05</th>\n",
       "      <td>1.999167</td>\n",
       "      <td>1.935000</td>\n",
       "      <td>1.952500</td>\n",
       "      <td>1.985833</td>\n",
       "      <td>57529200.0</td>\n",
       "      <td>1.824752</td>\n",
       "    </tr>\n",
       "  </tbody>\n",
       "</table>\n",
       "</div>"
      ],
      "text/plain": [
       "                High       Low      Open     Close      Volume  Adj Close\n",
       "Date                                                                     \n",
       "2003-12-31  1.987500  1.901667  1.978333  1.933333  49726800.0   1.776510\n",
       "2004-01-02  1.990833  1.923333  1.964167  1.923333  43641600.0   1.767321\n",
       "2004-01-05  1.999167  1.935000  1.952500  1.985833  57529200.0   1.824752"
      ]
     },
     "execution_count": 19,
     "metadata": {},
     "output_type": "execute_result"
    }
   ],
   "source": [
    "nvda.head(3)"
   ]
  },
  {
   "cell_type": "code",
   "execution_count": 20,
   "id": "5883d66f",
   "metadata": {},
   "outputs": [
    {
     "data": {
      "text/html": [
       "<div>\n",
       "<style scoped>\n",
       "    .dataframe tbody tr th:only-of-type {\n",
       "        vertical-align: middle;\n",
       "    }\n",
       "\n",
       "    .dataframe tbody tr th {\n",
       "        vertical-align: top;\n",
       "    }\n",
       "\n",
       "    .dataframe thead th {\n",
       "        text-align: right;\n",
       "    }\n",
       "</style>\n",
       "<table border=\"1\" class=\"dataframe\">\n",
       "  <thead>\n",
       "    <tr style=\"text-align: right;\">\n",
       "      <th></th>\n",
       "      <th>High</th>\n",
       "      <th>Low</th>\n",
       "      <th>Open</th>\n",
       "      <th>Close</th>\n",
       "      <th>Volume</th>\n",
       "      <th>Adj Close</th>\n",
       "    </tr>\n",
       "    <tr>\n",
       "      <th>Date</th>\n",
       "      <th></th>\n",
       "      <th></th>\n",
       "      <th></th>\n",
       "      <th></th>\n",
       "      <th></th>\n",
       "      <th></th>\n",
       "    </tr>\n",
       "  </thead>\n",
       "  <tbody>\n",
       "    <tr>\n",
       "      <th>2019-06-04</th>\n",
       "      <td>35.802502</td>\n",
       "      <td>33.867500</td>\n",
       "      <td>34.090000</td>\n",
       "      <td>35.750</td>\n",
       "      <td>64183600.0</td>\n",
       "      <td>35.609070</td>\n",
       "    </tr>\n",
       "    <tr>\n",
       "      <th>2019-06-05</th>\n",
       "      <td>36.547501</td>\n",
       "      <td>34.955002</td>\n",
       "      <td>36.492500</td>\n",
       "      <td>35.320</td>\n",
       "      <td>51161600.0</td>\n",
       "      <td>35.180756</td>\n",
       "    </tr>\n",
       "    <tr>\n",
       "      <th>2019-06-06</th>\n",
       "      <td>36.192501</td>\n",
       "      <td>35.337502</td>\n",
       "      <td>35.362499</td>\n",
       "      <td>35.945</td>\n",
       "      <td>40814000.0</td>\n",
       "      <td>35.803291</td>\n",
       "    </tr>\n",
       "    <tr>\n",
       "      <th>2019-06-07</th>\n",
       "      <td>36.720001</td>\n",
       "      <td>35.812500</td>\n",
       "      <td>36.005001</td>\n",
       "      <td>36.375</td>\n",
       "      <td>34885600.0</td>\n",
       "      <td>36.231602</td>\n",
       "    </tr>\n",
       "  </tbody>\n",
       "</table>\n",
       "</div>"
      ],
      "text/plain": [
       "                 High        Low       Open   Close      Volume  Adj Close\n",
       "Date                                                                      \n",
       "2019-06-04  35.802502  33.867500  34.090000  35.750  64183600.0  35.609070\n",
       "2019-06-05  36.547501  34.955002  36.492500  35.320  51161600.0  35.180756\n",
       "2019-06-06  36.192501  35.337502  35.362499  35.945  40814000.0  35.803291\n",
       "2019-06-07  36.720001  35.812500  36.005001  36.375  34885600.0  36.231602"
      ]
     },
     "execution_count": 20,
     "metadata": {},
     "output_type": "execute_result"
    }
   ],
   "source": [
    "nvda.tail(4)"
   ]
  },
  {
   "cell_type": "code",
   "execution_count": 21,
   "id": "444d303d",
   "metadata": {},
   "outputs": [
    {
     "data": {
      "text/html": [
       "<div>\n",
       "<style scoped>\n",
       "    .dataframe tbody tr th:only-of-type {\n",
       "        vertical-align: middle;\n",
       "    }\n",
       "\n",
       "    .dataframe tbody tr th {\n",
       "        vertical-align: top;\n",
       "    }\n",
       "\n",
       "    .dataframe thead th {\n",
       "        text-align: right;\n",
       "    }\n",
       "</style>\n",
       "<table border=\"1\" class=\"dataframe\">\n",
       "  <thead>\n",
       "    <tr style=\"text-align: right;\">\n",
       "      <th></th>\n",
       "      <th>High</th>\n",
       "      <th>Low</th>\n",
       "      <th>Open</th>\n",
       "      <th>Close</th>\n",
       "      <th>Volume</th>\n",
       "      <th>Adj Close</th>\n",
       "    </tr>\n",
       "  </thead>\n",
       "  <tbody>\n",
       "    <tr>\n",
       "      <th>count</th>\n",
       "      <td>3885.000000</td>\n",
       "      <td>3885.000000</td>\n",
       "      <td>3885.000000</td>\n",
       "      <td>3885.000000</td>\n",
       "      <td>3.885000e+03</td>\n",
       "      <td>3885.000000</td>\n",
       "    </tr>\n",
       "    <tr>\n",
       "      <th>mean</th>\n",
       "      <td>11.435201</td>\n",
       "      <td>11.069178</td>\n",
       "      <td>11.261162</td>\n",
       "      <td>11.256803</td>\n",
       "      <td>5.905560e+07</td>\n",
       "      <td>10.967585</td>\n",
       "    </tr>\n",
       "    <tr>\n",
       "      <th>std</th>\n",
       "      <td>16.600749</td>\n",
       "      <td>16.099432</td>\n",
       "      <td>16.369699</td>\n",
       "      <td>16.355555</td>\n",
       "      <td>3.629434e+07</td>\n",
       "      <td>16.302371</td>\n",
       "    </tr>\n",
       "    <tr>\n",
       "      <th>min</th>\n",
       "      <td>0.839167</td>\n",
       "      <td>0.775000</td>\n",
       "      <td>0.805833</td>\n",
       "      <td>0.785833</td>\n",
       "      <td>4.564400e+06</td>\n",
       "      <td>0.722090</td>\n",
       "    </tr>\n",
       "    <tr>\n",
       "      <th>25%</th>\n",
       "      <td>3.172500</td>\n",
       "      <td>3.067500</td>\n",
       "      <td>3.116667</td>\n",
       "      <td>3.117500</td>\n",
       "      <td>3.601960e+07</td>\n",
       "      <td>2.876111</td>\n",
       "    </tr>\n",
       "    <tr>\n",
       "      <th>50%</th>\n",
       "      <td>4.492500</td>\n",
       "      <td>4.342500</td>\n",
       "      <td>4.425000</td>\n",
       "      <td>4.417500</td>\n",
       "      <td>5.174760e+07</td>\n",
       "      <td>4.091336</td>\n",
       "    </tr>\n",
       "    <tr>\n",
       "      <th>75%</th>\n",
       "      <td>7.701667</td>\n",
       "      <td>7.450000</td>\n",
       "      <td>7.602500</td>\n",
       "      <td>7.570000</td>\n",
       "      <td>7.197280e+07</td>\n",
       "      <td>7.064694</td>\n",
       "    </tr>\n",
       "    <tr>\n",
       "      <th>max</th>\n",
       "      <td>73.190002</td>\n",
       "      <td>71.394997</td>\n",
       "      <td>72.330002</td>\n",
       "      <td>72.339996</td>\n",
       "      <td>5.088948e+08</td>\n",
       "      <td>71.826691</td>\n",
       "    </tr>\n",
       "  </tbody>\n",
       "</table>\n",
       "</div>"
      ],
      "text/plain": [
       "              High          Low         Open        Close        Volume  \\\n",
       "count  3885.000000  3885.000000  3885.000000  3885.000000  3.885000e+03   \n",
       "mean     11.435201    11.069178    11.261162    11.256803  5.905560e+07   \n",
       "std      16.600749    16.099432    16.369699    16.355555  3.629434e+07   \n",
       "min       0.839167     0.775000     0.805833     0.785833  4.564400e+06   \n",
       "25%       3.172500     3.067500     3.116667     3.117500  3.601960e+07   \n",
       "50%       4.492500     4.342500     4.425000     4.417500  5.174760e+07   \n",
       "75%       7.701667     7.450000     7.602500     7.570000  7.197280e+07   \n",
       "max      73.190002    71.394997    72.330002    72.339996  5.088948e+08   \n",
       "\n",
       "         Adj Close  \n",
       "count  3885.000000  \n",
       "mean     10.967585  \n",
       "std      16.302371  \n",
       "min       0.722090  \n",
       "25%       2.876111  \n",
       "50%       4.091336  \n",
       "75%       7.064694  \n",
       "max      71.826691  "
      ]
     },
     "execution_count": 21,
     "metadata": {},
     "output_type": "execute_result"
    }
   ],
   "source": [
    "nvda.describe()"
   ]
  },
  {
   "cell_type": "code",
   "execution_count": 22,
   "id": "68b003b5",
   "metadata": {},
   "outputs": [
    {
     "data": {
      "text/plain": [
       "Index(['High', 'Low', 'Open', 'Close', 'Volume', 'Adj Close'], dtype='object')"
      ]
     },
     "execution_count": 22,
     "metadata": {},
     "output_type": "execute_result"
    }
   ],
   "source": [
    "nvda.columns"
   ]
  },
  {
   "cell_type": "code",
   "execution_count": 23,
   "id": "2b5113ad",
   "metadata": {},
   "outputs": [
    {
     "data": {
      "text/plain": [
       "DatetimeIndex(['2003-12-31', '2004-01-02', '2004-01-05', '2004-01-06',\n",
       "               '2004-01-07', '2004-01-08', '2004-01-09', '2004-01-12',\n",
       "               '2004-01-13', '2004-01-14',\n",
       "               ...\n",
       "               '2019-05-24', '2019-05-28', '2019-05-29', '2019-05-30',\n",
       "               '2019-05-31', '2019-06-03', '2019-06-04', '2019-06-05',\n",
       "               '2019-06-06', '2019-06-07'],\n",
       "              dtype='datetime64[ns]', name='Date', length=3885, freq=None)"
      ]
     },
     "execution_count": 23,
     "metadata": {},
     "output_type": "execute_result"
    }
   ],
   "source": [
    "nvda.index"
   ]
  },
  {
   "cell_type": "code",
   "execution_count": 24,
   "id": "e48c2d6f",
   "metadata": {},
   "outputs": [
    {
     "data": {
      "text/plain": [
       "(3885, 6)"
      ]
     },
     "execution_count": 24,
     "metadata": {},
     "output_type": "execute_result"
    }
   ],
   "source": [
    "nvda.shape"
   ]
  },
  {
   "cell_type": "markdown",
   "id": "e636944a",
   "metadata": {},
   "source": [
    "# Time Series data\n",
    "A time series is a sequence of numerical data points taken at successive equally spaced points in time.\n",
    "In investing, a time series tracks the movement of stock price, over a specified period of time."
   ]
  },
  {
   "cell_type": "code",
   "execution_count": 25,
   "id": "bf04faf4",
   "metadata": {},
   "outputs": [],
   "source": [
    "import matplotlib.pyplot as plt\n",
    "\n",
    "%matplotlib inline\n",
    "# %matplotlib inline sets the output of plotting commands is displayed inline\n",
    "# within frontends like the Jupyter notebook,directly below the code cell that \n",
    "# produced it. The resulting plots will then also be stored in the notebook document"
   ]
  },
  {
   "cell_type": "code",
   "execution_count": 26,
   "id": "9b820d6d",
   "metadata": {},
   "outputs": [],
   "source": [
    "import matplotlib.dates as mdates"
   ]
  },
  {
   "cell_type": "code",
   "execution_count": 27,
   "id": "15446fc2",
   "metadata": {},
   "outputs": [
    {
     "data": {
      "image/png": "[encoded data removed]",
      "text/plain": [
       "<Figure size 432x288 with 1 Axes>"
      ]
     },
     "metadata": {
      "needs_background": "light"
     },
     "output_type": "display_data"
    }
   ],
   "source": [
    "plt.plot(nvda.index,nvda['Adj Close'])\n",
    "plt.gca().xaxis.set_major_formatter(mdates.DateFormatter('%Y'))\n",
    "plt.gca().xaxis.set_major_locator(mdates.YearLocator())\n",
    "plt.grid(True)\n",
    "plt.xticks(rotation = 90)\n",
    "plt.show()"
   ]
  },
  {
   "cell_type": "code",
   "execution_count": 28,
   "id": "b1c4b2a8",
   "metadata": {},
   "outputs": [
    {
     "data": {
      "image/png": "[encoded data removed]",
      "text/plain": [
       "<Figure size 720x720 with 4 Axes>"
      ]
     },
     "metadata": {
      "needs_background": "light"
     },
     "output_type": "display_data"
    }
   ],
   "source": [
    "# Subplots\n",
    "f, ax = plt.subplots(2,2,figsize=(10,10),sharex = True)\n",
    "f.gca().xaxis.set_major_formatter(mdates.DateFormatter('%Y'))\n",
    "f.gca().xaxis.set_major_locator(mdates.YearLocator())\n",
    "\n",
    "ax[0,0].plot(nvda.index, nvda['Adj Close'],color ='r')\n",
    "ax[0,0].grid(True)\n",
    "ax[0,0].tick_params(labelrotation = 90)\n",
    "ax[0,0].set_title('NVIDIA');\n",
    "\n",
    "ax[0,1].plot(qcom.index, qcom['Adj Close'],color ='b')\n",
    "ax[0,1].grid(True)\n",
    "ax[0,1].tick_params(labelrotation = 90)\n",
    "ax[0,1].set_title('QUALCOM');\n",
    "\n",
    "ax[1,0].plot(intc.index, intc['Adj Close'],color ='g')\n",
    "ax[1,0].grid(True)\n",
    "ax[1,0].tick_params(labelrotation = 90)\n",
    "ax[1,0].set_title('INTEL');\n",
    "\n",
    "ax[1,1].plot(ibm.index, ibm['Adj Close'],color ='y')\n",
    "ax[1,1].grid(True)\n",
    "ax[1,1].tick_params(labelrotation = 90)\n",
    "ax[1,1].set_title('IBM');"
   ]
  },
  {
   "cell_type": "markdown",
   "id": "9917502f",
   "metadata": {},
   "source": [
    "# Zooming in"
   ]
  },
  {
   "cell_type": "code",
   "execution_count": 31,
   "id": "79c69fb1",
   "metadata": {},
   "outputs": [
    {
     "data": {
      "image/png": "[encoded data removed]",
      "text/plain": [
       "<Figure size 432x288 with 1 Axes>"
      ]
     },
     "metadata": {
      "needs_background": "light"
     },
     "output_type": "display_data"
    }
   ],
   "source": [
    "ibm_18 =ibm.loc[pd.Timestamp('2018-01-01'):pd.Timestamp('2018-12-31')]\n",
    "# Dataset from 01-01-2018 to 31-12-2018\n",
    "plt.plot(ibm_18.index, ibm_18['Adj Close'])\n",
    "plt.grid(True)\n",
    "plt.gca().xaxis.set_major_formatter(mdates.DateFormatter('%Y-%m'))\n",
    "plt.gca().xaxis.set_major_locator(mdates.MonthLocator())\n",
    "plt.xticks(rotation = 90)\n",
    "plt.show()"
   ]
  },
  {
   "cell_type": "code",
   "execution_count": null,
   "id": "a8869609",
   "metadata": {},
   "outputs": [],
   "source": [
    "# Subplots\n",
    "f, ax = plt.subplots(2,2, figsize(10,10),sharex = True, sharey = True)\n",
    "f.gca().xaxis.set_major_formatter(mdates.DateFormatter('%Y-%m')\n",
    "f.gca().xaxis.set_major_locator(mdates.MonthLocator())\n",
    "\n",
    "nvda_18 = nvda.loc[pd.Timestamp('2017-11-01'):pd.Timestamp('2018-12-31')]\n",
    "ax[0,0].plot(nvda_18)                                  \n",
    "                                  \n",
    "\n",
    "                                  "
   ]
  }
 ],
 "metadata": {
  "kernelspec": {
   "display_name": "Python 3",
   "language": "python",
   "name": "python3"
  },
  "language_info": {
   "codemirror_mode": {
    "name": "ipython",
    "version": 3
   },
   "file_extension": ".py",
   "mimetype": "text/x-python",
   "name": "python",
   "nbconvert_exporter": "python",
   "pygments_lexer": "ipython3",
   "version": "3.8.8"
  }
 },
 "nbformat": 4,
 "nbformat_minor": 5
}
